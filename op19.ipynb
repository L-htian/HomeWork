{
 "cells": [
  {
   "cell_type": "code",
   "execution_count": 1,
   "metadata": {},
   "outputs": [],
   "source": [
    "import numpy as np\n",
    "import matplotlib.pyplot as plt\n",
    "from scipy.optimize import curve_fit\n",
    "import math\n",
    "import matplotlib.mlab as mlab\n",
    "from scipy.stats import norm\n",
    "import pandas as pd\n",
    "import seaborn as sns"
   ]
  },
  {
   "cell_type": "code",
   "execution_count": 11,
   "metadata": {},
   "outputs": [],
   "source": [
    "data1 = pd.read_csv(\"image/1/data_.csv\",index_col=[0])\n",
    "data2 = pd.read_csv(\"image/2/data_.csv\",index_col=[0])\n",
    "data3 = pd.read_csv(\"image/3/data_.csv\",index_col=[0])\n",
    "data4 = pd.read_csv(\"image/4/data_.csv\",index_col=[0])\n",
    "data5 = pd.read_csv(\"image/5/data_.csv\",index_col=[0])\n",
    "data6 = pd.read_csv(\"image/6/data_.csv\",index_col=[0])\n",
    "data7 = pd.read_csv(\"image/7/data_.csv\",index_col=[0])"
   ]
  },
  {
   "cell_type": "code",
   "execution_count": 12,
   "metadata": {},
   "outputs": [],
   "source": [
    "d_data1 = pd.DataFrame(data1[\"standard_deviation_of_days\"])\n",
    "d_data2 = pd.DataFrame(data2[\"standard_deviation_of_days\"])\n",
    "d_data3 = pd.DataFrame(data3[\"standard_deviation_of_days\"])\n",
    "d_data4 = pd.DataFrame(data4[\"standard_deviation_of_days\"])\n",
    "d_data5 = pd.DataFrame(data5[\"standard_deviation_of_days\"])\n",
    "d_data6 = pd.DataFrame(data6[\"standard_deviation_of_days\"])\n",
    "d_data7 = pd.DataFrame(data7[\"standard_deviation_of_days\"])"
   ]
  },
  {
   "cell_type": "code",
   "execution_count": 13,
   "metadata": {},
   "outputs": [],
   "source": [
    "d_data1.columns = [\"standard_deviation_of_days_group1\"]\n",
    "d_data2.columns = [\"standard_deviation_of_days_group2\"]\n",
    "d_data3.columns = [\"standard_deviation_of_days_group3\"]\n",
    "d_data4.columns = [\"standard_deviation_of_days_group4\"]\n",
    "d_data5.columns = [\"standard_deviation_of_days_group5\"]\n",
    "d_data6.columns = [\"standard_deviation_of_days_group6\"]\n",
    "d_data7.columns = [\"standard_deviation_of_days_group7\"]"
   ]
  },
  {
   "cell_type": "code",
   "execution_count": 14,
   "metadata": {},
   "outputs": [],
   "source": [
    "h_data1 = pd.DataFrame( data1[\"standard_deviation_of_hours\"])\n",
    "h_data2 = pd.DataFrame( data2[\"standard_deviation_of_hours\"])\n",
    "h_data3 = pd.DataFrame( data3[\"standard_deviation_of_hours\"])\n",
    "h_data4 = pd.DataFrame( data4[\"standard_deviation_of_hours\"])\n",
    "h_data5 = pd.DataFrame( data5[\"standard_deviation_of_hours\"])\n",
    "h_data6 = pd.DataFrame( data6[\"standard_deviation_of_hours\"])\n",
    "h_data7 = pd.DataFrame( data7[\"standard_deviation_of_hours\"])"
   ]
  },
  {
   "cell_type": "code",
   "execution_count": 15,
   "metadata": {},
   "outputs": [],
   "source": [
    "h_data1.columns = [\"standard_deviation_of_hours_group1\"]\n",
    "h_data2.columns = [\"standard_deviation_of_hours_group2\"]\n",
    "h_data3.columns = [\"standard_deviation_of_hours_group3\"]\n",
    "h_data4.columns = [\"standard_deviation_of_hours_group4\"]\n",
    "h_data5.columns = [\"standard_deviation_of_hours_group5\"]\n",
    "h_data6.columns = [\"standard_deviation_of_hours_group6\"]\n",
    "h_data7.columns = [\"standard_deviation_of_hours_group7\"]"
   ]
  },
  {
   "cell_type": "code",
   "execution_count": 16,
   "metadata": {},
   "outputs": [],
   "source": [
    "d_data = pd.merge(d_data1,d_data2,left_index=True,right_index=True)\n",
    "d_data = pd.merge(d_data,d_data4,left_index=True,right_index=True)\n",
    "d_data = pd.merge(d_data,d_data5,left_index=True,right_index=True)\n",
    "d_data = pd.merge(d_data,d_data7,left_index=True,right_index=True)"
   ]
  },
  {
   "cell_type": "code",
   "execution_count": 17,
   "metadata": {},
   "outputs": [],
   "source": [
    "h_data = pd.merge(h_data1,h_data2,left_index=True,right_index=True)\n",
    "h_data = pd.merge(h_data,h_data4,left_index=True,right_index=True)\n",
    "h_data = pd.merge(h_data,h_data5,left_index=True,right_index=True)\n",
    "h_data = pd.merge(h_data,h_data7,left_index=True,right_index=True)"
   ]
  },
  {
   "cell_type": "code",
   "execution_count": 18,
   "metadata": {},
   "outputs": [
    {
     "name": "stderr",
     "output_type": "stream",
     "text": [
      "No handles with labels found to put in legend.\n"
     ]
    },
    {
     "data": {
      "image/png": "[encoded data removed]",
      "text/plain": [
       "<Figure size 1080x720 with 1 Axes>"
      ]
     },
     "metadata": {
      "needs_background": "light"
     },
     "output_type": "display_data"
    }
   ],
   "source": [
    "fig = plt.figure(figsize=(15,10))\n",
    "ax = fig.add_subplot(1,1,1)\n",
    "ax.grid(True)\n",
    "name_list=[\"case1\",\"case2\",\"case3\",\"case4\",\"case5\"]\n",
    "\n",
    "d1 = d_data.iloc[0].values.tolist()\n",
    "d2 = d_data.iloc[1].values.tolist()\n",
    "d3 = d_data.iloc[2].values.tolist()\n",
    "d4 = d_data.iloc[3].values.tolist()\n",
    "d5 = d_data.iloc[4].values.tolist()\n",
    "\n",
    "x =list(range(len(d1)))\n",
    "total_width, n = 0.8, 5\n",
    "width = total_width / n\n",
    "\n",
    "plt.bar(x, d1, width=width,fc = 'y')\n",
    "for i in range(len(x)):\n",
    "    x[i] = x[i] + width\n",
    "ax.bar(x, d2, width=width,fc = 'r')\n",
    "for i in range(len(x)):\n",
    "    x[i] = x[i] + width\n",
    "ax.bar(x, d3, width=width,fc = 'g')\n",
    "for i in range(len(x)):\n",
    "    x[i] = x[i] + width\n",
    "ax.bar(x, d4, width=width,fc = 'b')\n",
    "for i in range(len(x)):\n",
    "    x[i] = x[i] + width\n",
    "ax.bar(x, d5, width=width,fc = 'c',tick_label = name_list)\n",
    "ax.legend()\n",
    "plt.show()\n",
    "fig.savefig(\"image/days_standard_case_l.png\")"
   ]
  },
  {
   "cell_type": "code",
   "execution_count": 19,
   "metadata": {},
   "outputs": [
    {
     "name": "stderr",
     "output_type": "stream",
     "text": [
      "No handles with labels found to put in legend.\n"
     ]
    },
    {
     "data": {
      "image/png": "[encoded data removed]",
      "text/plain": [
       "<Figure size 1080x720 with 1 Axes>"
      ]
     },
     "metadata": {
      "needs_background": "light"
     },
     "output_type": "display_data"
    }
   ],
   "source": [
    "fig = plt.figure(figsize=(15,10))\n",
    "ax = fig.add_subplot(1,1,1)\n",
    "ax.grid(True)\n",
    "name_list=[\"case1\",\"case2\",\"case3\",\"case4\",\"case5\"]\n",
    "\n",
    "h1 = h_data.iloc[0].values.tolist()\n",
    "h2 = h_data.iloc[1].values.tolist()\n",
    "h3 = h_data.iloc[2].values.tolist()\n",
    "h4 = h_data.iloc[3].values.tolist()\n",
    "h5 = h_data.iloc[4].values.tolist()\n",
    "\n",
    "x =list(range(len(d1)))\n",
    "total_width, n = 0.8, 5\n",
    "width = total_width / n\n",
    "\n",
    "plt.bar(x, h1, width=width,fc = 'y')\n",
    "for i in range(len(x)):\n",
    "    x[i] = x[i] + width\n",
    "ax.bar(x, h2, width=width,fc = 'r')\n",
    "for i in range(len(x)):\n",
    "    x[i] = x[i] + width\n",
    "ax.bar(x, h3, width=width,fc = 'g')\n",
    "for i in range(len(x)):\n",
    "    x[i] = x[i] + width\n",
    "ax.bar(x, h4, width=width,fc = 'b')\n",
    "for i in range(len(x)):\n",
    "    x[i] = x[i] + width\n",
    "ax.bar(x, h5, width=width,fc = 'c',tick_label = name_list)\n",
    "ax.legend()\n",
    "plt.show()\n",
    "fig.savefig(\"image/hours_standard_case_l.png\")"
   ]
  },
  {
   "cell_type": "code",
   "execution_count": null,
   "metadata": {},
   "outputs": [],
   "source": []
  }
 ],
 "metadata": {
  "kernelspec": {
   "display_name": "Python 3",
   "language": "python",
   "name": "python3"
  },
  "language_info": {
   "codemirror_mode": {
    "name": "ipython",
    "version": 3
   },
   "file_extension": ".py",
   "mimetype": "text/x-python",
   "name": "python",
   "nbconvert_exporter": "python",
   "pygments_lexer": "ipython3",
   "version": "3.7.7"
  }
 },
 "nbformat": 4,
 "nbformat_minor": 4
}
