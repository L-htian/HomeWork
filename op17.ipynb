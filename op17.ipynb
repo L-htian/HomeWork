{
 "cells": [
  {
   "cell_type": "code",
   "execution_count": 1,
   "metadata": {},
   "outputs": [],
   "source": [
    "import numpy as np\n",
    "import matplotlib.pyplot as plt\n",
    "from scipy.optimize import curve_fit\n",
    "import math\n",
    "import matplotlib.mlab as mlab\n",
    "from scipy.stats import norm\n",
    "import pandas as pd\n",
    "import seaborn as sns"
   ]
  },
  {
   "cell_type": "code",
   "execution_count": 2,
   "metadata": {},
   "outputs": [],
   "source": [
    "data1 = pd.read_csv(\"image/1/data.csv\",index_col=[0])\n",
    "data2 = pd.read_csv(\"image/2/data.csv\",index_col=[0])\n",
    "data3 = pd.read_csv(\"image/3/data.csv\",index_col=[0])\n",
    "data4 = pd.read_csv(\"image/4/data.csv\",index_col=[0])\n",
    "data5 = pd.read_csv(\"image/5/data.csv\",index_col=[0])\n",
    "data6 = pd.read_csv(\"image/6/data.csv\",index_col=[0])\n",
    "data7 = pd.read_csv(\"image/7/data.csv\",index_col=[0])"
   ]
  },
  {
   "cell_type": "code",
   "execution_count": 3,
   "metadata": {},
   "outputs": [],
   "source": [
    "d_data1 = pd.DataFrame(data1[\"standard_deviation_of_days\"])\n",
    "d_data2 = pd.DataFrame(data2[\"standard_deviation_of_days\"])\n",
    "d_data3 = pd.DataFrame(data3[\"standard_deviation_of_days\"])\n",
    "d_data4 = pd.DataFrame(data4[\"standard_deviation_of_days\"])\n",
    "d_data5 = pd.DataFrame(data5[\"standard_deviation_of_days\"])\n",
    "d_data6 = pd.DataFrame(data6[\"standard_deviation_of_days\"])\n",
    "d_data7 = pd.DataFrame(data7[\"standard_deviation_of_days\"])"
   ]
  },
  {
   "cell_type": "code",
   "execution_count": 4,
   "metadata": {},
   "outputs": [],
   "source": [
    "d_data1.columns = [\"standard_deviation_of_days_group1\"]\n",
    "d_data2.columns = [\"standard_deviation_of_days_group2\"]\n",
    "d_data3.columns = [\"standard_deviation_of_days_group3\"]\n",
    "d_data4.columns = [\"standard_deviation_of_days_group4\"]\n",
    "d_data5.columns = [\"standard_deviation_of_days_group5\"]\n",
    "d_data6.columns = [\"standard_deviation_of_days_group6\"]\n",
    "d_data7.columns = [\"standard_deviation_of_days_group7\"]"
   ]
  },
  {
   "cell_type": "code",
   "execution_count": 5,
   "metadata": {},
   "outputs": [],
   "source": [
    "h_data1 = pd.DataFrame( data1[\"standard_deviation_of_hours\"])\n",
    "h_data2 = pd.DataFrame( data2[\"standard_deviation_of_hours\"])\n",
    "h_data3 = pd.DataFrame( data3[\"standard_deviation_of_hours\"])\n",
    "h_data4 = pd.DataFrame( data4[\"standard_deviation_of_hours\"])\n",
    "h_data5 = pd.DataFrame( data5[\"standard_deviation_of_hours\"])\n",
    "h_data6 = pd.DataFrame( data6[\"standard_deviation_of_hours\"])\n",
    "h_data7 = pd.DataFrame( data7[\"standard_deviation_of_hours\"])"
   ]
  },
  {
   "cell_type": "code",
   "execution_count": 6,
   "metadata": {},
   "outputs": [],
   "source": [
    "h_data1.columns = [\"standard_deviation_of_hours_group1\"]\n",
    "h_data2.columns = [\"standard_deviation_of_hours_group2\"]\n",
    "h_data3.columns = [\"standard_deviation_of_hours_group3\"]\n",
    "h_data4.columns = [\"standard_deviation_of_hours_group4\"]\n",
    "h_data5.columns = [\"standard_deviation_of_hours_group5\"]\n",
    "h_data6.columns = [\"standard_deviation_of_hours_group6\"]\n",
    "h_data7.columns = [\"standard_deviation_of_hours_group7\"]"
   ]
  },
  {
   "cell_type": "code",
   "execution_count": 7,
   "metadata": {},
   "outputs": [],
   "source": [
    "d_data = pd.merge(d_data1,d_data2,left_index=True,right_index=True)\n",
    "d_data = pd.merge(d_data,d_data4,left_index=True,right_index=True)\n",
    "d_data = pd.merge(d_data,d_data5,left_index=True,right_index=True)\n",
    "d_data = pd.merge(d_data,d_data7,left_index=True,right_index=True)"
   ]
  },
  {
   "cell_type": "code",
   "execution_count": 8,
   "metadata": {},
   "outputs": [],
   "source": [
    "h_data = pd.merge(h_data1,h_data2,left_index=True,right_index=True)\n",
    "h_data = pd.merge(h_data,h_data4,left_index=True,right_index=True)\n",
    "h_data = pd.merge(h_data,h_data5,left_index=True,right_index=True)\n",
    "h_data = pd.merge(h_data,h_data7,left_index=True,right_index=True)"
   ]
  },
  {
   "cell_type": "code",
   "execution_count": 81,
   "metadata": {},
   "outputs": [
    {
     "data": {
      "text/html": [
       "<div>\n",
       "<style scoped>\n",
       "    .dataframe tbody tr th:only-of-type {\n",
       "        vertical-align: middle;\n",
       "    }\n",
       "\n",
       "    .dataframe tbody tr th {\n",
       "        vertical-align: top;\n",
       "    }\n",
       "\n",
       "    .dataframe thead th {\n",
       "        text-align: right;\n",
       "    }\n",
       "</style>\n",
       "<table border=\"1\" class=\"dataframe\">\n",
       "  <thead>\n",
       "    <tr style=\"text-align: right;\">\n",
       "      <th></th>\n",
       "      <th>0</th>\n",
       "      <th>1</th>\n",
       "      <th>2</th>\n",
       "      <th>3</th>\n",
       "      <th>4</th>\n",
       "    </tr>\n",
       "  </thead>\n",
       "  <tbody>\n",
       "    <tr>\n",
       "      <th>standard_deviation_of_days_group1</th>\n",
       "      <td>9.040525</td>\n",
       "      <td>10.679523</td>\n",
       "      <td>12.007178</td>\n",
       "      <td>10.666040</td>\n",
       "      <td>11.527970</td>\n",
       "    </tr>\n",
       "    <tr>\n",
       "      <th>standard_deviation_of_days_group2</th>\n",
       "      <td>12.199930</td>\n",
       "      <td>8.229127</td>\n",
       "      <td>12.873800</td>\n",
       "      <td>14.622991</td>\n",
       "      <td>10.111212</td>\n",
       "    </tr>\n",
       "    <tr>\n",
       "      <th>standard_deviation_of_days_group3</th>\n",
       "      <td>12.946678</td>\n",
       "      <td>3.548060</td>\n",
       "      <td>11.591125</td>\n",
       "      <td>12.613617</td>\n",
       "      <td>11.176327</td>\n",
       "    </tr>\n",
       "    <tr>\n",
       "      <th>standard_deviation_of_days_group4</th>\n",
       "      <td>12.370270</td>\n",
       "      <td>9.886223</td>\n",
       "      <td>12.102241</td>\n",
       "      <td>11.315721</td>\n",
       "      <td>11.601726</td>\n",
       "    </tr>\n",
       "    <tr>\n",
       "      <th>standard_deviation_of_days_group5</th>\n",
       "      <td>14.726772</td>\n",
       "      <td>1.147686</td>\n",
       "      <td>17.470914</td>\n",
       "      <td>12.275885</td>\n",
       "      <td>10.279804</td>\n",
       "    </tr>\n",
       "    <tr>\n",
       "      <th>standard_deviation_of_days_group6</th>\n",
       "      <td>11.094961</td>\n",
       "      <td>11.644397</td>\n",
       "      <td>13.902245</td>\n",
       "      <td>9.714327</td>\n",
       "      <td>9.522019</td>\n",
       "    </tr>\n",
       "    <tr>\n",
       "      <th>standard_deviation_of_days_group7</th>\n",
       "      <td>1.618665</td>\n",
       "      <td>11.724556</td>\n",
       "      <td>15.325558</td>\n",
       "      <td>8.774498</td>\n",
       "      <td>10.355424</td>\n",
       "    </tr>\n",
       "  </tbody>\n",
       "</table>\n",
       "</div>"
      ],
      "text/plain": [
       "                                           0          1          2          3  \\\n",
       "standard_deviation_of_days_group1   9.040525  10.679523  12.007178  10.666040   \n",
       "standard_deviation_of_days_group2  12.199930   8.229127  12.873800  14.622991   \n",
       "standard_deviation_of_days_group3  12.946678   3.548060  11.591125  12.613617   \n",
       "standard_deviation_of_days_group4  12.370270   9.886223  12.102241  11.315721   \n",
       "standard_deviation_of_days_group5  14.726772   1.147686  17.470914  12.275885   \n",
       "standard_deviation_of_days_group6  11.094961  11.644397  13.902245   9.714327   \n",
       "standard_deviation_of_days_group7   1.618665  11.724556  15.325558   8.774498   \n",
       "\n",
       "                                           4  \n",
       "standard_deviation_of_days_group1  11.527970  \n",
       "standard_deviation_of_days_group2  10.111212  \n",
       "standard_deviation_of_days_group3  11.176327  \n",
       "standard_deviation_of_days_group4  11.601726  \n",
       "standard_deviation_of_days_group5  10.279804  \n",
       "standard_deviation_of_days_group6   9.522019  \n",
       "standard_deviation_of_days_group7  10.355424  "
      ]
     },
     "execution_count": 81,
     "metadata": {},
     "output_type": "execute_result"
    }
   ],
   "source": [
    "d_data = pd.DataFrame.stack(d_data, level=-1, dropna=True)\n",
    "d_data = pd.DataFrame.unstack(d_data, level=-2, fill_value=None)\n",
    "d_data"
   ]
  },
  {
   "cell_type": "code",
   "execution_count": 89,
   "metadata": {},
   "outputs": [
    {
     "data": {
      "text/plain": [
       "<matplotlib.axes._subplots.AxesSubplot at 0x257b6636608>"
      ]
     },
     "execution_count": 89,
     "metadata": {},
     "output_type": "execute_result"
    },
    {
     "data": {
      "image/png": "[encoded data removed]",
      "text/plain": [
       "<Figure size 432x288 with 1 Axes>"
      ]
     },
     "metadata": {
      "needs_background": "light"
     },
     "output_type": "display_data"
    }
   ],
   "source": [
    "d_data.plot.bar()"
   ]
  },
  {
   "cell_type": "code",
   "execution_count": 90,
   "metadata": {},
   "outputs": [
    {
     "data": {
      "text/html": [
       "<div>\n",
       "<style scoped>\n",
       "    .dataframe tbody tr th:only-of-type {\n",
       "        vertical-align: middle;\n",
       "    }\n",
       "\n",
       "    .dataframe tbody tr th {\n",
       "        vertical-align: top;\n",
       "    }\n",
       "\n",
       "    .dataframe thead th {\n",
       "        text-align: right;\n",
       "    }\n",
       "</style>\n",
       "<table border=\"1\" class=\"dataframe\">\n",
       "  <thead>\n",
       "    <tr style=\"text-align: right;\">\n",
       "      <th></th>\n",
       "      <th>0</th>\n",
       "      <th>1</th>\n",
       "      <th>2</th>\n",
       "      <th>3</th>\n",
       "      <th>4</th>\n",
       "    </tr>\n",
       "  </thead>\n",
       "  <tbody>\n",
       "    <tr>\n",
       "      <th>standard_deviation_of_hours_group1</th>\n",
       "      <td>4.768492</td>\n",
       "      <td>3.570199</td>\n",
       "      <td>3.951769</td>\n",
       "      <td>4.323116</td>\n",
       "      <td>6.023316</td>\n",
       "    </tr>\n",
       "    <tr>\n",
       "      <th>standard_deviation_of_hours_group2</th>\n",
       "      <td>3.659783</td>\n",
       "      <td>5.353931</td>\n",
       "      <td>4.570621</td>\n",
       "      <td>2.581261</td>\n",
       "      <td>4.361015</td>\n",
       "    </tr>\n",
       "    <tr>\n",
       "      <th>standard_deviation_of_hours_group3</th>\n",
       "      <td>4.004239</td>\n",
       "      <td>4.250682</td>\n",
       "      <td>4.861522</td>\n",
       "      <td>8.601592</td>\n",
       "      <td>4.601730</td>\n",
       "    </tr>\n",
       "    <tr>\n",
       "      <th>standard_deviation_of_hours_group4</th>\n",
       "      <td>5.990239</td>\n",
       "      <td>4.243592</td>\n",
       "      <td>4.622539</td>\n",
       "      <td>4.976549</td>\n",
       "      <td>8.691220</td>\n",
       "    </tr>\n",
       "    <tr>\n",
       "      <th>standard_deviation_of_hours_group5</th>\n",
       "      <td>5.549344</td>\n",
       "      <td>1.999375</td>\n",
       "      <td>3.986210</td>\n",
       "      <td>3.490483</td>\n",
       "      <td>6.009818</td>\n",
       "    </tr>\n",
       "    <tr>\n",
       "      <th>standard_deviation_of_hours_group6</th>\n",
       "      <td>5.462520</td>\n",
       "      <td>4.001864</td>\n",
       "      <td>5.285376</td>\n",
       "      <td>3.812764</td>\n",
       "      <td>9.323883</td>\n",
       "    </tr>\n",
       "    <tr>\n",
       "      <th>standard_deviation_of_hours_group7</th>\n",
       "      <td>3.431948</td>\n",
       "      <td>5.505973</td>\n",
       "      <td>4.379294</td>\n",
       "      <td>8.024609</td>\n",
       "      <td>2.493792</td>\n",
       "    </tr>\n",
       "  </tbody>\n",
       "</table>\n",
       "</div>"
      ],
      "text/plain": [
       "                                           0         1         2         3  \\\n",
       "standard_deviation_of_hours_group1  4.768492  3.570199  3.951769  4.323116   \n",
       "standard_deviation_of_hours_group2  3.659783  5.353931  4.570621  2.581261   \n",
       "standard_deviation_of_hours_group3  4.004239  4.250682  4.861522  8.601592   \n",
       "standard_deviation_of_hours_group4  5.990239  4.243592  4.622539  4.976549   \n",
       "standard_deviation_of_hours_group5  5.549344  1.999375  3.986210  3.490483   \n",
       "standard_deviation_of_hours_group6  5.462520  4.001864  5.285376  3.812764   \n",
       "standard_deviation_of_hours_group7  3.431948  5.505973  4.379294  8.024609   \n",
       "\n",
       "                                           4  \n",
       "standard_deviation_of_hours_group1  6.023316  \n",
       "standard_deviation_of_hours_group2  4.361015  \n",
       "standard_deviation_of_hours_group3  4.601730  \n",
       "standard_deviation_of_hours_group4  8.691220  \n",
       "standard_deviation_of_hours_group5  6.009818  \n",
       "standard_deviation_of_hours_group6  9.323883  \n",
       "standard_deviation_of_hours_group7  2.493792  "
      ]
     },
     "execution_count": 90,
     "metadata": {},
     "output_type": "execute_result"
    }
   ],
   "source": [
    "h_data = pd.DataFrame.stack(h_data, level=-1, dropna=True)\n",
    "h_data = pd.DataFrame.unstack(h_data, level=-2, fill_value=None)\n",
    "h_data"
   ]
  },
  {
   "cell_type": "code",
   "execution_count": 122,
   "metadata": {},
   "outputs": [
    {
     "data": {
      "text/plain": [
       "<matplotlib.axes._subplots.AxesSubplot at 0x257bb8c8688>"
      ]
     },
     "execution_count": 122,
     "metadata": {},
     "output_type": "execute_result"
    },
    {
     "data": {
      "image/png": "[encoded data removed]",
      "text/plain": [
       "<Figure size 432x288 with 1 Axes>"
      ]
     },
     "metadata": {
      "needs_background": "light"
     },
     "output_type": "display_data"
    }
   ],
   "source": [
    "h_data.plot.bar()"
   ]
  },
  {
   "cell_type": "code",
   "execution_count": 9,
   "metadata": {},
   "outputs": [
    {
     "name": "stderr",
     "output_type": "stream",
     "text": [
      "No handles with labels found to put in legend.\n"
     ]
    },
    {
     "data": {
      "image/png": "[encoded data removed]",
      "text/plain": [
       "<Figure size 1080x720 with 1 Axes>"
      ]
     },
     "metadata": {
      "needs_background": "light"
     },
     "output_type": "display_data"
    }
   ],
   "source": [
    "fig = plt.figure(figsize=(15,10))\n",
    "ax = fig.add_subplot(1,1,1)\n",
    "ax.grid(True)\n",
    "name_list=[\"case1\",\"case2\",\"case3\",\"case4\",\"case5\"]\n",
    "\n",
    "d1 = d_data.iloc[0].values.tolist()\n",
    "d2 = d_data.iloc[1].values.tolist()\n",
    "d3 = d_data.iloc[2].values.tolist()\n",
    "d4 = d_data.iloc[3].values.tolist()\n",
    "d5 = d_data.iloc[4].values.tolist()\n",
    "\n",
    "x =list(range(len(d1)))\n",
    "total_width, n = 0.8, 5\n",
    "width = total_width / n\n",
    "\n",
    "plt.bar(x, d1, width=width,fc = 'y')\n",
    "for i in range(len(x)):\n",
    "    x[i] = x[i] + width\n",
    "ax.bar(x, d2, width=width,fc = 'r')\n",
    "for i in range(len(x)):\n",
    "    x[i] = x[i] + width\n",
    "ax.bar(x, d3, width=width,fc = 'g')\n",
    "for i in range(len(x)):\n",
    "    x[i] = x[i] + width\n",
    "ax.bar(x, d4, width=width,fc = 'b')\n",
    "for i in range(len(x)):\n",
    "    x[i] = x[i] + width\n",
    "ax.bar(x, d5, width=width,fc = 'c',tick_label = name_list)\n",
    "ax.legend()\n",
    "plt.show()\n",
    "fig.savefig(\"image/days_standard_case.png\")"
   ]
  },
  {
   "cell_type": "code",
   "execution_count": 10,
   "metadata": {},
   "outputs": [
    {
     "name": "stderr",
     "output_type": "stream",
     "text": [
      "No handles with labels found to put in legend.\n"
     ]
    },
    {
     "data": {
      "image/png": "[encoded data removed]",
      "text/plain": [
       "<Figure size 1080x720 with 1 Axes>"
      ]
     },
     "metadata": {
      "needs_background": "light"
     },
     "output_type": "display_data"
    }
   ],
   "source": [
    "fig = plt.figure(figsize=(15,10))\n",
    "ax = fig.add_subplot(1,1,1)\n",
    "ax.grid(True)\n",
    "name_list=[\"case1\",\"case2\",\"case3\",\"case4\",\"case5\"]\n",
    "\n",
    "h1 = h_data.iloc[0].values.tolist()\n",
    "h2 = h_data.iloc[1].values.tolist()\n",
    "h3 = h_data.iloc[2].values.tolist()\n",
    "h4 = h_data.iloc[3].values.tolist()\n",
    "h5 = h_data.iloc[4].values.tolist()\n",
    "\n",
    "x =list(range(len(d1)))\n",
    "total_width, n = 0.8, 5\n",
    "width = total_width / n\n",
    "\n",
    "plt.bar(x, h1, width=width,fc = 'y')\n",
    "for i in range(len(x)):\n",
    "    x[i] = x[i] + width\n",
    "ax.bar(x, h2, width=width,fc = 'r')\n",
    "for i in range(len(x)):\n",
    "    x[i] = x[i] + width\n",
    "ax.bar(x, h3, width=width,fc = 'g')\n",
    "for i in range(len(x)):\n",
    "    x[i] = x[i] + width\n",
    "ax.bar(x, h4, width=width,fc = 'b')\n",
    "for i in range(len(x)):\n",
    "    x[i] = x[i] + width\n",
    "ax.bar(x, h5, width=width,fc = 'c',tick_label = name_list)\n",
    "ax.legend()\n",
    "plt.show()\n",
    "fig.savefig(\"image/hours_standard_case.png\")"
   ]
  },
  {
   "cell_type": "code",
   "execution_count": null,
   "metadata": {},
   "outputs": [],
   "source": []
  }
 ],
 "metadata": {
  "kernelspec": {
   "display_name": "Python 3",
   "language": "python",
   "name": "python3"
  },
  "language_info": {
   "codemirror_mode": {
    "name": "ipython",
    "version": 3
   },
   "file_extension": ".py",
   "mimetype": "text/x-python",
   "name": "python",
   "nbconvert_exporter": "python",
   "pygments_lexer": "ipython3",
   "version": "3.7.7"
  }
 },
 "nbformat": 4,
 "nbformat_minor": 4
}
